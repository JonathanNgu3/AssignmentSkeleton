{
 "cells": [
  {
   "cell_type": "code",
   "execution_count": 1,
   "id": "9d65c0be",
   "metadata": {},
   "outputs": [
    {
     "name": "stdout",
     "output_type": "stream",
     "text": [
      "Requirement already satisfied: matplotlib in d:\\users\\jonathan\\anaconda3\\lib\\site-packages (3.7.1)Note: you may need to restart the kernel to use updated packages.\n",
      "\n",
      "Requirement already satisfied: pillow in d:\\users\\jonathan\\anaconda3\\lib\\site-packages (9.4.0)\n",
      "Requirement already satisfied: contourpy>=1.0.1 in d:\\users\\jonathan\\anaconda3\\lib\\site-packages (from matplotlib) (1.0.5)\n",
      "Requirement already satisfied: cycler>=0.10 in d:\\users\\jonathan\\anaconda3\\lib\\site-packages (from matplotlib) (0.11.0)\n",
      "Requirement already satisfied: fonttools>=4.22.0 in d:\\users\\jonathan\\anaconda3\\lib\\site-packages (from matplotlib) (4.25.0)\n",
      "Requirement already satisfied: kiwisolver>=1.0.1 in d:\\users\\jonathan\\anaconda3\\lib\\site-packages (from matplotlib) (1.4.4)\n",
      "Requirement already satisfied: numpy>=1.20 in d:\\users\\jonathan\\anaconda3\\lib\\site-packages (from matplotlib) (1.24.3)\n",
      "Requirement already satisfied: packaging>=20.0 in d:\\users\\jonathan\\anaconda3\\lib\\site-packages (from matplotlib) (23.0)\n",
      "Requirement already satisfied: pyparsing>=2.3.1 in d:\\users\\jonathan\\anaconda3\\lib\\site-packages (from matplotlib) (3.0.9)\n",
      "Requirement already satisfied: python-dateutil>=2.7 in d:\\users\\jonathan\\anaconda3\\lib\\site-packages (from matplotlib) (2.8.2)\n",
      "Requirement already satisfied: six>=1.5 in d:\\users\\jonathan\\anaconda3\\lib\\site-packages (from python-dateutil>=2.7->matplotlib) (1.16.0)\n"
     ]
    }
   ],
   "source": [
    "pip install matplotlib pillow"
   ]
  },
  {
   "cell_type": "code",
   "execution_count": 8,
   "id": "c9d1ee76",
   "metadata": {},
   "outputs": [],
   "source": [
    "import matplotlib.pyplot as plt\n",
    "from matplotlib.patches import Rectangle, ConnectionPatch\n",
    "from PIL import Image\n",
    "\n",
    "def draw_tennis_court():\n",
    "    # Create a figure and axis\n",
    "    fig, ax = plt.subplots()\n",
    "\n",
    "    # Draw the tennis court boundaries\n",
    "    ax.add_patch(Rectangle((0, 0), 78, 36, linewidth=2, edgecolor='green', facecolor='none'))\n",
    "\n",
    "    # Add the net\n",
    "    ax.plot([39, 39], [0, 78], linewidth=2, color='green')\n",
    "\n",
    "    # Add lines to separate \"in\" from \"out\" areas\n",
    "    ax.add_patch(Rectangle((0, 0), 78, 4.5, linewidth=2, edgecolor='green', facecolor='none'))\n",
    "    ax.add_patch(Rectangle((0, 31.5), 78, 4.5, linewidth=2, edgecolor='green', facecolor='none'))\n",
    "\n",
    "    # Add lines for the service boxes\n",
    "    ax.add_patch(Rectangle((18, 4.5), 42, 13.5, linewidth=2, edgecolor='green', facecolor='none'))\n",
    "    ax.add_patch(Rectangle((18, 18), 42, 13.5, linewidth=2, edgecolor='green', facecolor='none'))\n",
    "\n",
    "    # Set axis limits and aspect ratio\n",
    "    ax.set_xlim(0, 78)\n",
    "    ax.set_ylim(0, 36)\n",
    "    ax.set_aspect('equal')\n",
    "\n",
    "    # Save the figure as a PNG\n",
    "    plt.savefig('tennis_court.png', bbox_inches='tight')\n",
    "\n",
    "    # Close the figure\n",
    "    plt.close()\n",
    "\n",
    "# Call the function to create and save the tennis court image\n",
    "draw_tennis_court()"
   ]
  },
  {
   "cell_type": "code",
   "execution_count": null,
   "id": "ec1622e5",
   "metadata": {},
   "outputs": [],
   "source": []
  }
 ],
 "metadata": {
  "kernelspec": {
   "display_name": "Python 3 (ipykernel)",
   "language": "python",
   "name": "python3"
  },
  "language_info": {
   "codemirror_mode": {
    "name": "ipython",
    "version": 3
   },
   "file_extension": ".py",
   "mimetype": "text/x-python",
   "name": "python",
   "nbconvert_exporter": "python",
   "pygments_lexer": "ipython3",
   "version": "3.11.4"
  }
 },
 "nbformat": 4,
 "nbformat_minor": 5
}
